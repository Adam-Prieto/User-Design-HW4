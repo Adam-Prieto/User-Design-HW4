{
 "cells": [
  {
   "cell_type": "code",
   "execution_count": 2,
   "id": "b34c545f-8e23-40fc-9543-14262be8802c",
   "metadata": {},
   "outputs": [],
   "source": [
    "#load data\n",
    "import pandas as pd\n",
    "import numpy as np\n",
    "import matplotlib.pyplot as plt\n",
    "\n",
    "\n",
    "happinessData = pd.read_csv('world-happiness-report-2019.csv')"
   ]
  },
  {
   "cell_type": "code",
   "execution_count": 3,
   "id": "c4f62fdc-f91c-43fa-a95d-4a2ebd093565",
   "metadata": {},
   "outputs": [
    {
     "data": {
      "text/html": [
       "<div>\n",
       "<style scoped>\n",
       "    .dataframe tbody tr th:only-of-type {\n",
       "        vertical-align: middle;\n",
       "    }\n",
       "\n",
       "    .dataframe tbody tr th {\n",
       "        vertical-align: top;\n",
       "    }\n",
       "\n",
       "    .dataframe thead th {\n",
       "        text-align: right;\n",
       "    }\n",
       "</style>\n",
       "<table border=\"1\" class=\"dataframe\">\n",
       "  <thead>\n",
       "    <tr style=\"text-align: right;\">\n",
       "      <th></th>\n",
       "      <th>Country (region)</th>\n",
       "      <th>Ladder</th>\n",
       "      <th>SD of Ladder</th>\n",
       "      <th>Positive affect</th>\n",
       "      <th>Negative affect</th>\n",
       "      <th>Social support</th>\n",
       "      <th>Freedom</th>\n",
       "      <th>Corruption</th>\n",
       "      <th>Generosity</th>\n",
       "      <th>Log of GDP\\nper capita</th>\n",
       "      <th>Healthy life\\nexpectancy</th>\n",
       "    </tr>\n",
       "  </thead>\n",
       "  <tbody>\n",
       "    <tr>\n",
       "      <th>0</th>\n",
       "      <td>Finland</td>\n",
       "      <td>1</td>\n",
       "      <td>4</td>\n",
       "      <td>41.0</td>\n",
       "      <td>10.0</td>\n",
       "      <td>2.0</td>\n",
       "      <td>5.0</td>\n",
       "      <td>4.0</td>\n",
       "      <td>47.0</td>\n",
       "      <td>22.0</td>\n",
       "      <td>27.0</td>\n",
       "    </tr>\n",
       "    <tr>\n",
       "      <th>1</th>\n",
       "      <td>Denmark</td>\n",
       "      <td>2</td>\n",
       "      <td>13</td>\n",
       "      <td>24.0</td>\n",
       "      <td>26.0</td>\n",
       "      <td>4.0</td>\n",
       "      <td>6.0</td>\n",
       "      <td>3.0</td>\n",
       "      <td>22.0</td>\n",
       "      <td>14.0</td>\n",
       "      <td>23.0</td>\n",
       "    </tr>\n",
       "    <tr>\n",
       "      <th>2</th>\n",
       "      <td>Norway</td>\n",
       "      <td>3</td>\n",
       "      <td>8</td>\n",
       "      <td>16.0</td>\n",
       "      <td>29.0</td>\n",
       "      <td>3.0</td>\n",
       "      <td>3.0</td>\n",
       "      <td>8.0</td>\n",
       "      <td>11.0</td>\n",
       "      <td>7.0</td>\n",
       "      <td>12.0</td>\n",
       "    </tr>\n",
       "    <tr>\n",
       "      <th>3</th>\n",
       "      <td>Iceland</td>\n",
       "      <td>4</td>\n",
       "      <td>9</td>\n",
       "      <td>3.0</td>\n",
       "      <td>3.0</td>\n",
       "      <td>1.0</td>\n",
       "      <td>7.0</td>\n",
       "      <td>45.0</td>\n",
       "      <td>3.0</td>\n",
       "      <td>15.0</td>\n",
       "      <td>13.0</td>\n",
       "    </tr>\n",
       "    <tr>\n",
       "      <th>4</th>\n",
       "      <td>Netherlands</td>\n",
       "      <td>5</td>\n",
       "      <td>1</td>\n",
       "      <td>12.0</td>\n",
       "      <td>25.0</td>\n",
       "      <td>15.0</td>\n",
       "      <td>19.0</td>\n",
       "      <td>12.0</td>\n",
       "      <td>7.0</td>\n",
       "      <td>12.0</td>\n",
       "      <td>18.0</td>\n",
       "    </tr>\n",
       "  </tbody>\n",
       "</table>\n",
       "</div>"
      ],
      "text/plain": [
       "  Country (region)  Ladder  SD of Ladder  Positive affect  Negative affect  \\\n",
       "0          Finland       1             4             41.0             10.0   \n",
       "1          Denmark       2            13             24.0             26.0   \n",
       "2           Norway       3             8             16.0             29.0   \n",
       "3          Iceland       4             9              3.0              3.0   \n",
       "4      Netherlands       5             1             12.0             25.0   \n",
       "\n",
       "   Social support  Freedom  Corruption  Generosity  Log of GDP\\nper capita  \\\n",
       "0             2.0      5.0         4.0        47.0                    22.0   \n",
       "1             4.0      6.0         3.0        22.0                    14.0   \n",
       "2             3.0      3.0         8.0        11.0                     7.0   \n",
       "3             1.0      7.0        45.0         3.0                    15.0   \n",
       "4            15.0     19.0        12.0         7.0                    12.0   \n",
       "\n",
       "   Healthy life\\nexpectancy  \n",
       "0                      27.0  \n",
       "1                      23.0  \n",
       "2                      12.0  \n",
       "3                      13.0  \n",
       "4                      18.0  "
      ]
     },
     "execution_count": 3,
     "metadata": {},
     "output_type": "execute_result"
    }
   ],
   "source": [
    "happinessData.head()"
   ]
  },
  {
   "cell_type": "code",
   "execution_count": 4,
   "id": "bc57643b-0341-4a94-84b0-bf4f9ae7ba77",
   "metadata": {},
   "outputs": [
    {
     "name": "stdout",
     "output_type": "stream",
     "text": [
      "Total null values in happiness Data: 23\n"
     ]
    }
   ],
   "source": [
    "happiness_nulls = happinessData.isnull().sum().sum()   \n",
    "\n",
    "# print total count\n",
    "print(f\"Total null values in happiness Data: {happiness_nulls}\")"
   ]
  },
  {
   "cell_type": "code",
   "execution_count": 5,
   "id": "860d78d5-1490-48ec-88a9-0d545e66c8eb",
   "metadata": {},
   "outputs": [
    {
     "name": "stdout",
     "output_type": "stream",
     "text": [
      "Positive affect             1\n",
      "Negative affect             1\n",
      "Social support              1\n",
      "Freedom                     1\n",
      "Corruption                  8\n",
      "Generosity                  1\n",
      "Log of GDP\\nper capita      4\n",
      "Healthy life\\nexpectancy    6\n",
      "dtype: int64\n"
     ]
    }
   ],
   "source": [
    "null_columns = happinessData.isnull().sum()\n",
    "print(null_columns[null_columns > 0])"
   ]
  },
  {
   "cell_type": "code",
   "execution_count": 6,
   "id": "120a1cdf-94f6-498d-aed8-8a95c4873bfb",
   "metadata": {},
   "outputs": [
    {
     "name": "stdout",
     "output_type": "stream",
     "text": [
      "20   Corruption                  True\n",
      "24   Log of GDP\\nper capita      True\n",
      "     Healthy life\\nexpectancy    True\n",
      "27   Corruption                  True\n",
      "28   Positive affect             True\n",
      "     Negative affect             True\n",
      "     Social support              True\n",
      "     Freedom                     True\n",
      "     Corruption                  True\n",
      "     Generosity                  True\n",
      "36   Corruption                  True\n",
      "45   Healthy life\\nexpectancy    True\n",
      "50   Corruption                  True\n",
      "63   Log of GDP\\nper capita      True\n",
      "     Healthy life\\nexpectancy    True\n",
      "75   Healthy life\\nexpectancy    True\n",
      "86   Corruption                  True\n",
      "92   Corruption                  True\n",
      "100  Corruption                  True\n",
      "109  Healthy life\\nexpectancy    True\n",
      "111  Log of GDP\\nper capita      True\n",
      "134  Healthy life\\nexpectancy    True\n",
      "148  Log of GDP\\nper capita      True\n",
      "dtype: object\n"
     ]
    }
   ],
   "source": [
    "# Get the exact positions of null values (row, column)\n",
    "null_positions = happinessData.isnull()\n",
    "print(null_positions[null_positions].stack())"
   ]
  },
  {
   "cell_type": "code",
   "execution_count": 7,
   "id": "858fbb1b-efa5-4985-91e2-f27e8838fffd",
   "metadata": {},
   "outputs": [],
   "source": [
    "# Get columns\n",
    "column_data = {}\n",
    "\n",
    "# Loop through each column and save its values as a list\n",
    "for column in happinessData.columns:\n",
    "    column_data[column] = np.array(happinessData[column])"
   ]
  },
  {
   "cell_type": "code",
   "execution_count": 8,
   "id": "0134d002-cbb1-43c1-b0e5-4481d35ef5c0",
   "metadata": {},
   "outputs": [],
   "source": [
    "happinessData = happinessData.dropna()"
   ]
  },
  {
   "cell_type": "code",
   "execution_count": 9,
   "id": "f1124d89-2ffb-4a69-a607-c4fa373c6510",
   "metadata": {},
   "outputs": [],
   "source": [
    "countries = happinessData['Country (region)'].values\n",
    "ladder = happinessData['Ladder'].values\n",
    "sdLadder = happinessData['SD of Ladder'].values\n",
    "posAffect = happinessData['Positive affect'].values\n",
    "negAffect = happinessData['Negative affect'].values\n",
    "socialSupport = happinessData['Social support'].values\n",
    "freedom = happinessData['Freedom'].values\n",
    "corruption = happinessData['Corruption'].values\n",
    "generosity = happinessData['Generosity'].values"
   ]
  },
  {
   "cell_type": "code",
   "execution_count": 10,
   "id": "9099aa8f-a279-4d16-bdcb-8936bec44d12",
   "metadata": {},
   "outputs": [
    {
     "data": {
      "image/png": "[encoded data removed]",
      "text/plain": [
       "<Figure size 640x480 with 1 Axes>"
      ]
     },
     "metadata": {},
     "output_type": "display_data"
    },
    {
     "data": {
      "text/plain": [
       "0.22439426243679134"
      ]
     },
     "execution_count": 10,
     "metadata": {},
     "output_type": "execute_result"
    }
   ],
   "source": [
    "plt.scatter(corruption, ladder, color='red')\n",
    "plt.title(\"Corruption vs. Ladder\")\n",
    "plt.xlabel(\"Corruption\")\n",
    "plt.ylabel(\"SD Ladder\")\n",
    "plt.show()\n",
    "np.corrcoef(corruption, ladder)[0,1]"
   ]
  },
  {
   "cell_type": "code",
   "execution_count": 18,
   "id": "1a785748-d6aa-4781-9b74-4fcf3894c37a",
   "metadata": {},
   "outputs": [
    {
     "data": {
      "image/png": "[encoded data removed]",
      "text/plain": [
       "<Figure size 640x480 with 1 Axes>"
      ]
     },
     "metadata": {},
     "output_type": "display_data"
    },
    {
     "data": {
      "text/plain": [
       "0.4531353972826464"
      ]
     },
     "execution_count": 18,
     "metadata": {},
     "output_type": "execute_result"
    }
   ],
   "source": [
    "lifeExpectancy = happinessData['Healthy life\\nexpectancy'].values\n",
    "plt.scatter(generosity, lifeExpectancy, color='blue')\n",
    "plt.title(\"Generosity vs. Life Expectancy\")\n",
    "plt.xlabel(\"Generosity\")\n",
    "plt.ylabel(\"Life Expectancy\")\n",
    "plt.show()\n",
    "np.corrcoef(generosity, lifeExpectancy)[0,1]"
   ]
  },
  {
   "cell_type": "code",
   "execution_count": null,
   "id": "43ab88ac-bb07-4bf0-b784-98e95f26728c",
   "metadata": {},
   "outputs": [],
   "source": []
  }
 ],
 "metadata": {
  "kernelspec": {
   "display_name": "Python 3 (ipykernel)",
   "language": "python",
   "name": "python3"
  },
  "language_info": {
   "codemirror_mode": {
    "name": "ipython",
    "version": 3
   },
   "file_extension": ".py",
   "mimetype": "text/x-python",
   "name": "python",
   "nbconvert_exporter": "python",
   "pygments_lexer": "ipython3",
   "version": "3.10.8"
  }
 },
 "nbformat": 4,
 "nbformat_minor": 5
}
